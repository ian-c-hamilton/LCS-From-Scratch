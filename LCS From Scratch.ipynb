{
 "cells": [
  {
   "cell_type": "markdown",
   "metadata": {},
   "source": [
    "# Learning Classifiers from Scratch\n",
    "\n",
    "## Model Source\n",
    "\n",
    "The initial, basic learning classifier system model taken from Dr. Ryan Urbanowicz's \"Learning Classifier Systems in a Nutshell\" video on YouTube found here: https://youtu.be/CRge_cZ2cJc?si=1CM2osKW7CptJ-DM\n",
    "\n",
    "This video description of an LCS is the simplest and most digestable that has been found while also staying complete in terms of LCS operation. Additionally, some psuedo code snippets have been taken from Dr. Martin Butz's book \"Rule-Based Evolutionary Online Learning Systems\" and his algorithmic description of XCS."
   ]
  },
  {
   "attachments": {},
   "cell_type": "markdown",
   "metadata": {},
   "source": [
    "### Step 1: Initialize Setup\n",
    "\n",
    "Initialize the population and create the functions for creating empty match sets and action sets:"
   ]
  },
  {
   "cell_type": "code",
   "execution_count": 135,
   "metadata": {},
   "outputs": [
    {
     "name": "stdout",
     "output_type": "stream",
     "text": [
      "[]\n"
     ]
    }
   ],
   "source": [
    "# Initialize the empty population. This is only called once at the beginning of the cycle.\n",
    "def initialize_population():\n",
    "    population = []\n",
    "    return population\n",
    "\n",
    "population = initialize_population()\n",
    "print(population)"
   ]
  },
  {
   "cell_type": "code",
   "execution_count": 136,
   "metadata": {},
   "outputs": [
    {
     "name": "stdout",
     "output_type": "stream",
     "text": [
      "[]\n"
     ]
    }
   ],
   "source": [
    "print(population)"
   ]
  },
  {
   "attachments": {},
   "cell_type": "markdown",
   "metadata": {},
   "source": [
    "### Step 2: Feeding Data to LCS\n",
    "\n",
    "LCS is an online learning mechanism, but will normally be trained from some dataset. Data from the dataset in training or from the environment in testing will need to be fed to the LCS."
   ]
  },
  {
   "cell_type": "code",
   "execution_count": 137,
   "metadata": {},
   "outputs": [
    {
     "name": "stdout",
     "output_type": "stream",
     "text": [
      "[0, 0, 0, 0, 0, 0, 0]\n"
     ]
    }
   ],
   "source": [
    "\n",
    "data = './6Multiplexer_Data_Complete.csv'\n",
    "\n",
    "# Get the length of the file so that the get_instance function doesn't return anything if requested line is not present\n",
    "def get_data_length(data):\n",
    "    with open(data, 'r') as file:\n",
    "        return sum(1 for row in file)\n",
    "\n",
    "def convert_int(instance):\n",
    "    int_instance = []\n",
    "    for i in instance:\n",
    "        int_instance.append(int(i))\n",
    "    return int_instance\n",
    "\n",
    "# Create a function that gets the data from a file an returns a specified instance of the dataset to the LCS\n",
    "def get_instance(data, line_num):\n",
    "    import csv\n",
    "    lines = get_data_length(data)\n",
    "    with open(data, 'r') as source:\n",
    "        reader = csv.reader(source)\n",
    "        if line_num > lines:\n",
    "            return\n",
    "        for _ in range(line_num):\n",
    "            next(reader)\n",
    "        return convert_int(next(reader))\n",
    "\n",
    "instance = get_instance(data, 1)\n",
    "print(instance)"
   ]
  },
  {
   "attachments": {},
   "cell_type": "markdown",
   "metadata": {},
   "source": [
    "### Step 3: Determine if classifiers in population match the current instance\n",
    "\n",
    "Compare each classifier in the population to the current instance. If classifiers in the population match, they are each added to the match set."
   ]
  },
  {
   "cell_type": "code",
   "execution_count": 138,
   "metadata": {},
   "outputs": [
    {
     "name": "stdout",
     "output_type": "stream",
     "text": [
      "[]\n",
      "[]\n"
     ]
    }
   ],
   "source": [
    "# Create a does_match function that compares each attribute between two classifiers\n",
    "def does_match(state, instance):\n",
    "    for i in range(len(state)):\n",
    "        index = state[i][0]\n",
    "        if state[i][1] != instance[index]:\n",
    "            return False\n",
    "    return True\n",
    "\n",
    "# Create the match set by comparing the attributes of each classifier in the population with the current instance\n",
    "def create_match_set(population, instance):\n",
    "    match_set = []\n",
    "    if len(population) == 0:\n",
    "        return match_set\n",
    "    else:\n",
    "        for classifier in population:\n",
    "            state = classifier['state']\n",
    "            if does_match(state, instance) == True:\n",
    "                match_set.append(classifier)\n",
    "                classifier['match count'] += 1\n",
    "                classifier['accuracy'] = classifier['correct count'] / classifier['match count']\n",
    "                classifier['fitness'] = classifier['accuracy'] ** 5\n",
    "        return match_set\n",
    "\n",
    "match_set = create_match_set(population, instance)\n",
    "print(population)\n",
    "print(match_set)"
   ]
  },
  {
   "attachments": {},
   "cell_type": "markdown",
   "metadata": {},
   "source": [
    "### Step 4: Generate the correct set\n",
    "\n",
    "From the match set, create a correct set by comparing the action or class of each classifier with the action or class of each instance."
   ]
  },
  {
   "cell_type": "code",
   "execution_count": 139,
   "metadata": {},
   "outputs": [
    {
     "name": "stdout",
     "output_type": "stream",
     "text": [
      "[]\n",
      "[]\n"
     ]
    }
   ],
   "source": [
    "# Create the correct set by comparing the class or action of each classifier in the match set with the current instance\n",
    "\n",
    "def create_correct_set(match_set, instance):\n",
    "    correct_set = []\n",
    "    if len(match_set) == 0:\n",
    "        return correct_set\n",
    "    else:\n",
    "        for classifier in match_set:\n",
    "            if classifier['action'] == instance[-1]:\n",
    "                correct_set.append(classifier)\n",
    "                classifier['correct count'] +=1\n",
    "                classifier['accuracy'] = classifier['correct count'] / classifier['match count']\n",
    "                classifier['fitness'] = classifier['accuracy'] ** 5\n",
    "        return correct_set\n",
    "        \n",
    "correct_set = create_correct_set(match_set, instance)\n",
    "print(population)\n",
    "print(correct_set)"
   ]
  },
  {
   "attachments": {},
   "cell_type": "markdown",
   "metadata": {},
   "source": [
    "### Step 5: Covering\n",
    "\n",
    "In most LCS, the population is initialized as being empty. Covering adds classifiers to the population using the current instance if the correct set is empty. This is also the step that turns the simple instance data into the classifier dictionary."
   ]
  },
  {
   "cell_type": "code",
   "execution_count": 140,
   "metadata": {},
   "outputs": [
    {
     "name": "stdout",
     "output_type": "stream",
     "text": [
      "[{'state': [(1, 0), (2, 0), (3, 0), (4, 0), (5, 0)], 'action': 0, 'numerosity': 1, 'match count': 1, 'correct count': 1, 'accuracy': 1, 'fitness': 1, 'birth iteration': 1}]\n"
     ]
    }
   ],
   "source": [
    "# Create a dictionary item to represent the current instance if the correct set is empty.\n",
    "\n",
    "def covering(instance, iteration, specificity):\n",
    "    import random\n",
    "    state = []\n",
    "    action = instance[-1]\n",
    "    for x in range(len(instance) - 1):\n",
    "        if random.random() < specificity:\n",
    "            state.append(tuple((x, instance[x])))\n",
    "    classifier = {'state': state, \n",
    "                  'action': action, \n",
    "                  'numerosity': 1, \n",
    "                  'match count': 1, \n",
    "                  'correct count': 1, \n",
    "                  'accuracy': 1, \n",
    "                  'fitness': 1, \n",
    "                  'birth iteration': iteration}\n",
    "    return classifier\n",
    "\n",
    "classifier = covering(instance, 1, specificity=.5)\n",
    "\n",
    "def update_population(classifier, population):\n",
    "    population.append(classifier)\n",
    "update_population(classifier, population)\n",
    "print(population)"
   ]
  },
  {
   "cell_type": "markdown",
   "metadata": {},
   "source": [
    "### Step 5.1: Population Filling\n",
    "\n",
    "Below is an example of a loop that goes through the training data and creates a population from the training instances. The loop takes a data set to train on and a specificity parameter that is from 0 to 1. A specificity of 1 means that the classifier states will be 100% specific and the population will essentially be filled with one of each iteration of the training data. Anything less than 1 and there is a chance that for each bit in the state of a calssifier it will be unspecified. This is equivalent to the # symbol in most LCS algorithms and if a bis is unspecified, the algorithm \"doesn't care\". The states are coded in a list of tuples that represent index-value pairs. For large datasets and complicated problems, this can have a significant speed and memory advantage over representing \"don't care\" bits with #."
   ]
  },
  {
   "cell_type": "code",
   "execution_count": 141,
   "metadata": {},
   "outputs": [],
   "source": [
    "def testing(data, specificity):\n",
    "    population = initialize_population()\n",
    "    length = get_data_length(data)\n",
    "    for i in range(1, length):\n",
    "        instance = get_instance(data, i)\n",
    "        match_set = create_match_set(population, instance)\n",
    "        correct_set = create_correct_set(match_set, instance)\n",
    "        if len(correct_set) == 0:\n",
    "            classifier = covering(instance, i, specificity=specificity)\n",
    "            update_population(classifier, population)\n",
    "    return population"
   ]
  },
  {
   "cell_type": "markdown",
   "metadata": {},
   "source": [
    "### Step 6: Genetic Algorithm\n",
    "\n",
    "The genetic algorithm is the heart of learning for the LCS. It introduces new rules to the population and evolves accurate, general rules that apply to the training data. The three main portions of the GA are selection, crossover, and mutation, applied in that order.\n",
    "\n",
    "Selection selects two parent classifiers from the correct set. Selection is most often done in two ways, proportionate selection or tournament selection. Proportionate selection makes the most logical sense at first, but can significantly hinder learning performance. In proportionate selection parents are selected directly proporional to their fitness. However, it is often the case during training that many classifiers will have similar, low accuracy and few classifiers will have high accuracy. The chance of picking a highly accurate classifier at random is small. This is normally visualized with a roulette wheel. If the slices of a roulette wheel were represented by classifier accuracy, one, highly accurate classifer might take up 25% of the wheel while thousands of classifiers with poor accuracy would take up 75% of the wheel. Spinning the wheel to choose a classifier means that you'll pick an inaccurate classifier 75% of the time. There are ways around this like fitness sharing for proportionate selection, but tournament selection is simpler and will be used here. Tournament selection randomly selects a number of classifiers from the correct set. The classifier with the highest accuracy is chosen as a parent. This is repeated for the second parent.\n",
    "\n",
    "Crossover exchanges attributes of the parent classifier states to create potentially new classifiers. The three main crossover mechanisms are uniform, single point, and double point crossover. Uniform goes one attribute at a time and randomly exchanges the values between the two parent classifiers. Uniform crossover introduces the most diversity into the population but has two major drawbacks. uniform crossover not only significantly more difficult to perform (in terms of computations and even physically coding it) than the other two, it can disrupt learning significantly. For example, if two very accurate classifiers are chosen as parents, uniform crossover can completely disrupt their attributes into new classifiers that look nothing like the original parents. Thus, single point or double point crossover is traditionally used. Single point crossover chooses a random index in the parent classifiers and swaps them at that point. In this way, as least 50% of the parent classifier attributes are maintained in their original order while introducing attributes from the other parent classifier. Two point crossover does the samething as single point but chooses two indices and swaps the portion between those two points. In this method, at least 66% of the parent classifiers are preserved.\n",
    "\n",
    "Lastly, mutation is applied to the offspring of the two parent classifiers. Mutation is based off a small probability that either converts a generalized attribute into a specified one or vice versa. If converting a generalized attribute to a spcified one, the specified attribute is made sure to match the current training instance."
   ]
  },
  {
   "cell_type": "code",
   "execution_count": 142,
   "metadata": {},
   "outputs": [],
   "source": [
    "# Create a function that takes in a set, like the correct set, and selects two parent classifiers\n",
    "\n",
    "def tournament_selection(data, tournament_size):\n",
    "    import random\n",
    "    tournament = random.choices(data, k=tournament_size)\n",
    "    return tournament\n",
    "\n",
    "# Create a function that selects a parent from the tournament\n",
    "\n",
    "def parent_selection(tournament):\n",
    "    max_fitness = 0\n",
    "    parent_index = 0\n",
    "    for i in tournament:\n",
    "        if i['fitness'] > max_fitness:\n",
    "            max_fitness = i['fitness']\n",
    "            parent_index  = tournament.index(i)\n",
    "    return tournament[parent_index]"
   ]
  },
  {
   "cell_type": "markdown",
   "metadata": {},
   "source": [
    "### Step 6.1: Test tournament selection and parent selection\n",
    "\n",
    "Create a test for the tournament selection and parent selection functions. Normally, the selection will only take place in the correct set. For testing sake, we apply it to the whole population."
   ]
  },
  {
   "cell_type": "code",
   "execution_count": 143,
   "metadata": {},
   "outputs": [
    {
     "name": "stdout",
     "output_type": "stream",
     "text": [
      "[{'state': [(0, 0), (1, 0), (2, 0)], 'action': 0, 'numerosity': 1, 'match count': 8, 'correct count': 8, 'accuracy': 1.0, 'fitness': 1.0, 'birth iteration': 1}, {'state': [(1, 0), (2, 1), (3, 0), (4, 0)], 'action': 1, 'numerosity': 1, 'match count': 4, 'correct count': 2, 'accuracy': 0.5, 'fitness': 0.03125, 'birth iteration': 9}, {'state': [(1, 0), (2, 1), (4, 1)], 'action': 1, 'numerosity': 1, 'match count': 8, 'correct count': 8, 'accuracy': 1.0, 'fitness': 1.0, 'birth iteration': 11}, {'state': [(2, 1), (3, 1)], 'action': 1, 'numerosity': 1, 'match count': 16, 'correct count': 12, 'accuracy': 0.75, 'fitness': 0.2373046875, 'birth iteration': 13}, {'state': [(0, 0), (4, 0)], 'action': 0, 'numerosity': 1, 'match count': 8, 'correct count': 4, 'accuracy': 0.5, 'fitness': 0.03125, 'birth iteration': 17}, {'state': [(0, 0), (1, 1), (2, 0), (3, 0), (5, 0)], 'action': 0, 'numerosity': 1, 'match count': 1, 'correct count': 1, 'accuracy': 1, 'fitness': 1, 'birth iteration': 19}, {'state': [(2, 0), (3, 0), (4, 1)], 'action': 0, 'numerosity': 1, 'match count': 5, 'correct count': 2, 'accuracy': 0.4, 'fitness': 0.010240000000000003, 'birth iteration': 20}, {'state': [(3, 1), (4, 0)], 'action': 1, 'numerosity': 1, 'match count': 12, 'correct count': 6, 'accuracy': 0.5, 'fitness': 0.03125, 'birth iteration': 21}, {'state': [(0, 0), (2, 0), (3, 1)], 'action': 1, 'numerosity': 1, 'match count': 2, 'correct count': 2, 'accuracy': 1.0, 'fitness': 1.0, 'birth iteration': 23}, {'state': [(0, 0), (1, 1), (4, 1), (5, 0)], 'action': 0, 'numerosity': 1, 'match count': 2, 'correct count': 1, 'accuracy': 0.5, 'fitness': 0.03125, 'birth iteration': 27}, {'state': [(1, 1), (4, 1), (5, 1)], 'action': 0, 'numerosity': 1, 'match count': 6, 'correct count': 1, 'accuracy': 0.16666666666666666, 'fitness': 0.00012860082304526745, 'birth iteration': 28}, {'state': [(1, 0), (2, 0), (3, 0), (5, 0)], 'action': 0, 'numerosity': 1, 'match count': 2, 'correct count': 1, 'accuracy': 0.5, 'fitness': 0.03125, 'birth iteration': 33}, {'state': [(0, 1), (2, 0), (3, 0), (4, 0)], 'action': 0, 'numerosity': 1, 'match count': 3, 'correct count': 2, 'accuracy': 0.6666666666666666, 'fitness': 0.13168724279835387, 'birth iteration': 34}, {'state': [(0, 1), (2, 0), (3, 0), (4, 1)], 'action': 1, 'numerosity': 1, 'match count': 4, 'correct count': 3, 'accuracy': 0.75, 'fitness': 0.2373046875, 'birth iteration': 35}, {'state': [(2, 0), (5, 0)], 'action': 0, 'numerosity': 1, 'match count': 6, 'correct count': 5, 'accuracy': 0.8333333333333334, 'fitness': 0.401877572016461, 'birth iteration': 37}, {'state': [(0, 1), (2, 0), (3, 1), (4, 0)], 'action': 0, 'numerosity': 1, 'match count': 3, 'correct count': 2, 'accuracy': 0.6666666666666666, 'fitness': 0.13168724279835387, 'birth iteration': 38}, {'state': [(1, 0), (4, 1), (5, 0)], 'action': 1, 'numerosity': 1, 'match count': 3, 'correct count': 3, 'accuracy': 1.0, 'fitness': 1.0, 'birth iteration': 39}, {'state': [(1, 0), (3, 1), (4, 1), (5, 1)], 'action': 1, 'numerosity': 1, 'match count': 2, 'correct count': 2, 'accuracy': 1.0, 'fitness': 1.0, 'birth iteration': 40}, {'state': [(0, 1), (2, 1), (3, 0), (5, 0)], 'action': 0, 'numerosity': 1, 'match count': 4, 'correct count': 3, 'accuracy': 0.75, 'fitness': 0.2373046875, 'birth iteration': 41}, {'state': [(1, 0), (2, 1), (3, 0), (4, 0), (5, 1)], 'action': 0, 'numerosity': 1, 'match count': 1, 'correct count': 1, 'accuracy': 1, 'fitness': 1, 'birth iteration': 42}, {'state': [(0, 1), (1, 0), (2, 1)], 'action': 0, 'numerosity': 1, 'match count': 4, 'correct count': 2, 'accuracy': 0.5, 'fitness': 0.03125, 'birth iteration': 45}, {'state': [(2, 0), (3, 0), (4, 0)], 'action': 1, 'numerosity': 1, 'match count': 1, 'correct count': 1, 'accuracy': 1, 'fitness': 1, 'birth iteration': 50}, {'state': [(0, 1)], 'action': 1, 'numerosity': 1, 'match count': 9, 'correct count': 5, 'accuracy': 0.5555555555555556, 'fitness': 0.05292214940134466, 'birth iteration': 56}, {'state': [(0, 1), (2, 1), (5, 0)], 'action': 0, 'numerosity': 1, 'match count': 2, 'correct count': 2, 'accuracy': 1.0, 'fitness': 1.0, 'birth iteration': 61}]\n",
      "24\n"
     ]
    }
   ],
   "source": [
    "population = testing(data, .5)\n",
    "print(population)\n",
    "print(len(population))"
   ]
  },
  {
   "cell_type": "code",
   "execution_count": 144,
   "metadata": {},
   "outputs": [
    {
     "name": "stdout",
     "output_type": "stream",
     "text": [
      "[{'state': [(3, 1), (4, 0)], 'action': 1, 'numerosity': 1, 'match count': 12, 'correct count': 6, 'accuracy': 0.5, 'fitness': 0.03125, 'birth iteration': 21}, {'state': [(1, 0), (2, 0), (3, 0), (5, 0)], 'action': 0, 'numerosity': 1, 'match count': 2, 'correct count': 1, 'accuracy': 0.5, 'fitness': 0.03125, 'birth iteration': 33}, {'state': [(0, 1), (2, 0), (3, 0), (4, 1)], 'action': 1, 'numerosity': 1, 'match count': 4, 'correct count': 3, 'accuracy': 0.75, 'fitness': 0.2373046875, 'birth iteration': 35}, {'state': [(2, 0), (3, 0), (4, 1)], 'action': 0, 'numerosity': 1, 'match count': 5, 'correct count': 2, 'accuracy': 0.4, 'fitness': 0.010240000000000003, 'birth iteration': 20}, {'state': [(0, 1)], 'action': 1, 'numerosity': 1, 'match count': 9, 'correct count': 5, 'accuracy': 0.5555555555555556, 'fitness': 0.05292214940134466, 'birth iteration': 56}]\n",
      "5\n"
     ]
    }
   ],
   "source": [
    "tournament1 = tournament_selection(population, round(len(population) / 5))\n",
    "print(tournament1)\n",
    "print(len(tournament1))"
   ]
  },
  {
   "cell_type": "code",
   "execution_count": 145,
   "metadata": {},
   "outputs": [
    {
     "name": "stdout",
     "output_type": "stream",
     "text": [
      "{'state': [(0, 1), (2, 0), (3, 0), (4, 1)], 'action': 1, 'numerosity': 1, 'match count': 4, 'correct count': 3, 'accuracy': 0.75, 'fitness': 0.2373046875, 'birth iteration': 35}\n"
     ]
    }
   ],
   "source": [
    "parent1 = parent_selection(tournament1)\n",
    "print(parent1)"
   ]
  },
  {
   "cell_type": "code",
   "execution_count": 146,
   "metadata": {},
   "outputs": [
    {
     "name": "stdout",
     "output_type": "stream",
     "text": [
      "[{'state': [(0, 0), (4, 0)], 'action': 0, 'numerosity': 1, 'match count': 8, 'correct count': 4, 'accuracy': 0.5, 'fitness': 0.03125, 'birth iteration': 17}, {'state': [(0, 1), (2, 0), (3, 0), (4, 1)], 'action': 1, 'numerosity': 1, 'match count': 4, 'correct count': 3, 'accuracy': 0.75, 'fitness': 0.2373046875, 'birth iteration': 35}, {'state': [(0, 1), (2, 1), (3, 0), (5, 0)], 'action': 0, 'numerosity': 1, 'match count': 4, 'correct count': 3, 'accuracy': 0.75, 'fitness': 0.2373046875, 'birth iteration': 41}, {'state': [(0, 0), (2, 0), (3, 1)], 'action': 1, 'numerosity': 1, 'match count': 2, 'correct count': 2, 'accuracy': 1.0, 'fitness': 1.0, 'birth iteration': 23}, {'state': [(1, 0), (2, 1), (4, 1)], 'action': 1, 'numerosity': 1, 'match count': 8, 'correct count': 8, 'accuracy': 1.0, 'fitness': 1.0, 'birth iteration': 11}]\n",
      "5\n"
     ]
    }
   ],
   "source": [
    "tournament2 = tournament_selection(population, round(len(population) / 5))\n",
    "print(tournament2)\n",
    "print(len(tournament2))"
   ]
  },
  {
   "cell_type": "code",
   "execution_count": 147,
   "metadata": {},
   "outputs": [
    {
     "name": "stdout",
     "output_type": "stream",
     "text": [
      "{'state': [(0, 1), (2, 0), (3, 0), (4, 1)], 'action': 1, 'numerosity': 1, 'match count': 4, 'correct count': 3, 'accuracy': 0.75, 'fitness': 0.2373046875, 'birth iteration': 35}\n",
      "{'state': [(0, 0), (2, 0), (3, 1)], 'action': 1, 'numerosity': 1, 'match count': 2, 'correct count': 2, 'accuracy': 1.0, 'fitness': 1.0, 'birth iteration': 23}\n"
     ]
    }
   ],
   "source": [
    "parent2 = parent_selection(tournament2)\n",
    "print(parent1)\n",
    "print(parent2)"
   ]
  },
  {
   "cell_type": "markdown",
   "metadata": {},
   "source": [
    "### Step 6.2: Perform Crossover\n",
    "\n",
    "Create a function that takes two parent classifiers and crosses over their attibutes using single point crossover."
   ]
  },
  {
   "cell_type": "code",
   "execution_count": 148,
   "metadata": {},
   "outputs": [
    {
     "name": "stdout",
     "output_type": "stream",
     "text": [
      "[(0, 1), (2, 0), (3, 0), (4, 1)] \n",
      " [(0, 0), (2, 0), (3, 1)] \n",
      " 1 \n",
      " {'state': [(0, 1), (2, 0), (3, 1)], 'action': 1, 'numerosity': 1, 'match count': 1, 'correct count': 1, 'accuracy': 1, 'fitness': 1, 'birth iteration': 1} \n",
      " {'state': [(0, 0), (2, 0), (3, 0), (4, 1)], 'action': 1, 'numerosity': 1, 'match count': 1, 'correct count': 1, 'accuracy': 1, 'fitness': 1, 'birth iteration': 1} \n",
      "\n"
     ]
    }
   ],
   "source": [
    "def crossover(parent1, parent2, birth_iteration):\n",
    "    import random\n",
    "    parent1_attributes = parent1['state']\n",
    "    parent2_attributes = parent2['state']\n",
    "    action = parent1['action'] # Assumes that crossover only takes place on the correct set, thus both parents have the same action\n",
    "    offspring1_attributes = []\n",
    "    offspring2_attributes = []\n",
    "    if len(parent1_attributes) == 0 and len(parent2_attributes) == 0:\n",
    "        largest_index = 0\n",
    "    elif parent1_attributes[-1][0] >= parent2_attributes[-1][0]:\n",
    "        largest_index = parent1_attributes[-1][0]\n",
    "    else:\n",
    "        largest_index = parent2_attributes[-1][0]\n",
    "    crossover_point = random.randint(0, (largest_index - 1)) if largest_index > 0 else 0 # Use largest index minus 1 or else there is no crossover if the point is equal to largest index\n",
    "    # The 4 for loops seem excessive, but it keeps the attributes in order by index value\n",
    "    for i in parent1_attributes:\n",
    "        if i[0] <= crossover_point:\n",
    "            offspring1_attributes.append(i)\n",
    "    for i in parent2_attributes:\n",
    "        if i[0] <= crossover_point:\n",
    "            offspring2_attributes.append(i)\n",
    "    for i in parent1_attributes:\n",
    "        if i[0] > crossover_point:\n",
    "            offspring2_attributes.append(i)\n",
    "    for i in parent2_attributes:\n",
    "        if i[0] > crossover_point:\n",
    "            offspring1_attributes.append(i)\n",
    "    offspring1 = {'state': offspring1_attributes, \n",
    "                    'action': action, \n",
    "                    'numerosity': 1, \n",
    "                    'match count': 1, \n",
    "                    'correct count': 1, \n",
    "                    'accuracy': 1, \n",
    "                    'fitness': 1, \n",
    "                    'birth iteration': birth_iteration}\n",
    "    offspring2 = {'state': offspring2_attributes, \n",
    "                'action': action, \n",
    "                'numerosity': 1, \n",
    "                'match count': 1, \n",
    "                'correct count': 1, \n",
    "                'accuracy': 1, \n",
    "                'fitness': 1, \n",
    "                'birth iteration': birth_iteration}\n",
    "\n",
    "\n",
    "    return parent1_attributes, parent2_attributes, crossover_point, offspring1, offspring2\n",
    "\n",
    "mom, dad, cross_point, son, daughter = crossover(parent1, parent2, 1)\n",
    "\n",
    "print(mom, '\\n', dad, '\\n', cross_point, '\\n', son, '\\n', daughter, '\\n',)"
   ]
  },
  {
   "cell_type": "markdown",
   "metadata": {},
   "source": [
    "### Step 6.3: Mutation\n",
    "\n",
    "Mutation randomly switches a defined attribute to undefined or an undefined attribute to defined that matches the current training instance."
   ]
  },
  {
   "cell_type": "code",
   "execution_count": 149,
   "metadata": {},
   "outputs": [
    {
     "name": "stdout",
     "output_type": "stream",
     "text": [
      "{'state': [(0, 0), (2, 0), (3, 0), (4, 1)], 'action': 1, 'numerosity': 1, 'match count': 1, 'correct count': 1, 'accuracy': 1, 'fitness': 1, 'birth iteration': 1}\n"
     ]
    }
   ],
   "source": [
    "def mutation(instance, classifier, rate):\n",
    "    import random\n",
    "    half_rate = rate / 2\n",
    "    index = 0\n",
    "    for j in range(len(instance) -1 ):\n",
    "        rand = random.random()\n",
    "        if rand >= half_rate and rand <= rate:\n",
    "            classifier['state'].append((index, instance[j]))\n",
    "        index += 1\n",
    "    classifier['state'] = list(set(classifier['state']))\n",
    "    for i in classifier['state']:\n",
    "        rand = random.random()\n",
    "        if rand < half_rate: # Rate divided by two to differentiate between deletion and specialization of attributes\n",
    "            classifier['state'].remove(i) #randomly delete the specified attribute from the classifier state\n",
    "    classifier['state'].sort()\n",
    "    return classifier\n",
    "\n",
    "mutated = mutation(instance, daughter, .5)\n",
    "\n",
    "print(mutated)\n",
    "            \n"
   ]
  }
 ],
 "metadata": {
  "kernelspec": {
   "display_name": "base",
   "language": "python",
   "name": "python3"
  },
  "language_info": {
   "codemirror_mode": {
    "name": "ipython",
    "version": 3
   },
   "file_extension": ".py",
   "mimetype": "text/x-python",
   "name": "python",
   "nbconvert_exporter": "python",
   "pygments_lexer": "ipython3",
   "version": "3.8.5"
  },
  "vscode": {
   "interpreter": {
    "hash": "d68823a4712e2a9e6711d2ac209f8a2a2c531babbc332ec7eb4ae73e4fc1dbbb"
   }
  }
 },
 "nbformat": 4,
 "nbformat_minor": 2
}

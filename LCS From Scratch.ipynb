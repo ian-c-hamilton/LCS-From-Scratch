{
 "cells": [
  {
   "cell_type": "markdown",
   "metadata": {},
   "source": [
    "# Learning Classifiers from Scratch\n",
    "\n",
    "## Model Source\n",
    "\n",
    "The initial, basic learning classifier system model taken from Dr. Ryan Urbanowicz's \"Learning Classifier Systems in a Nutshell\" video on YouTube found here: https://youtu.be/CRge_cZ2cJc?si=1CM2osKW7CptJ-DM\n",
    "\n",
    "This video description of an LCS is the simplest and most digestable that has been found while also staying complete in terms of LCS operation. Additionally, some psuedo code snippets have been taken from Dr. Martin Butz's book \"Rule-Based Evolutionary Online Learning Systems\" and his algorithmic description of XCS."
   ]
  },
  {
   "attachments": {},
   "cell_type": "markdown",
   "metadata": {},
   "source": [
    "### Step 1: Initialize Setup\n",
    "\n",
    "Initialize the population and create the functions for creating empty match sets and action sets:"
   ]
  },
  {
   "cell_type": "code",
   "execution_count": 1326,
   "metadata": {},
   "outputs": [
    {
     "name": "stdout",
     "output_type": "stream",
     "text": [
      "[]\n"
     ]
    }
   ],
   "source": [
    "# Initialize the empty population. This is only called once at the beginning of the cycle.\n",
    "def initialize_population():\n",
    "    population = []\n",
    "    return population\n",
    "\n",
    "population = initialize_population()\n",
    "print(population)"
   ]
  },
  {
   "cell_type": "code",
   "execution_count": 1327,
   "metadata": {},
   "outputs": [
    {
     "name": "stdout",
     "output_type": "stream",
     "text": [
      "[]\n"
     ]
    }
   ],
   "source": [
    "print(population)"
   ]
  },
  {
   "attachments": {},
   "cell_type": "markdown",
   "metadata": {},
   "source": [
    "### Step 2: Feeding Data to LCS\n",
    "\n",
    "LCS is an online learning mechanism, but will normally be trained from some dataset. Data from the dataset in training or from the environment in testing will need to be fed to the LCS."
   ]
  },
  {
   "cell_type": "code",
   "execution_count": 1328,
   "metadata": {},
   "outputs": [
    {
     "name": "stdout",
     "output_type": "stream",
     "text": [
      "[0, 0, 0, 0, 0, 0, 0]\n"
     ]
    }
   ],
   "source": [
    "\n",
    "data = './6Multiplexer_Data_Complete.csv'\n",
    "\n",
    "# Get the length of the file so that the get_instance function doesn't return anything if requested line is not present\n",
    "def get_data_length(data):\n",
    "    with open(data, 'r') as file:\n",
    "        return sum(1 for row in file)\n",
    "\n",
    "def convert_int(instance):\n",
    "    int_instance = []\n",
    "    for i in instance:\n",
    "        int_instance.append(int(i))\n",
    "    return int_instance\n",
    "\n",
    "# Create a function that gets the data from a file an returns a specified instance of the dataset to the LCS\n",
    "def get_instance(data, line_num):\n",
    "    import csv\n",
    "    lines = get_data_length(data)\n",
    "    with open(data, 'r') as source:\n",
    "        reader = csv.reader(source)\n",
    "        if line_num > lines:\n",
    "            return\n",
    "        for _ in range(line_num):\n",
    "            next(reader)\n",
    "        return convert_int(next(reader))\n",
    "\n",
    "instance = get_instance(data, 1)\n",
    "print(instance)"
   ]
  },
  {
   "attachments": {},
   "cell_type": "markdown",
   "metadata": {},
   "source": [
    "### Step 3: Determine if classifiers in population match the current instance\n",
    "\n",
    "Compare each classifier in the population to the current instance. If classifiers in the population match, they are each added to the match set."
   ]
  },
  {
   "cell_type": "code",
   "execution_count": 1329,
   "metadata": {},
   "outputs": [
    {
     "name": "stdout",
     "output_type": "stream",
     "text": [
      "[]\n",
      "[]\n"
     ]
    }
   ],
   "source": [
    "# Create a does_match function that compares each attribute between two classifiers\n",
    "def does_match(state, instance):\n",
    "    for i in range(len(state)):\n",
    "        index = state[i][0]\n",
    "        if state[i][1] != instance[index]:\n",
    "            return False\n",
    "    return True\n",
    "\n",
    "# Create the match set by comparing the attributes of each classifier in the population with the current instance\n",
    "def create_match_set(population, instance):\n",
    "    match_set = []\n",
    "    if len(population) == 0:\n",
    "        return match_set\n",
    "    else:\n",
    "        for classifier in population:\n",
    "            state = classifier['state']\n",
    "            if does_match(state, instance) == True:\n",
    "                match_set.append(classifier)\n",
    "                classifier['match count'] += 1\n",
    "                classifier['accuracy'] = classifier['correct count'] / classifier['match count']\n",
    "                classifier['fitness'] = classifier['accuracy'] ** 5\n",
    "        return match_set\n",
    "\n",
    "match_set = create_match_set(population, instance)\n",
    "print(population)\n",
    "print(match_set)"
   ]
  },
  {
   "attachments": {},
   "cell_type": "markdown",
   "metadata": {},
   "source": [
    "### Step 4: Generate the correct set\n",
    "\n",
    "From the match set, create a correct set by comparing the action or class of each classifier with the action or class of each instance."
   ]
  },
  {
   "cell_type": "code",
   "execution_count": 1330,
   "metadata": {},
   "outputs": [
    {
     "name": "stdout",
     "output_type": "stream",
     "text": [
      "[]\n",
      "[]\n"
     ]
    }
   ],
   "source": [
    "# Create the correct set by comparing the class or action of each classifier in the match set with the current instance\n",
    "\n",
    "def create_correct_set(match_set, instance):\n",
    "    correct_set = []\n",
    "    if len(match_set) == 0:\n",
    "        return correct_set\n",
    "    else:\n",
    "        for classifier in match_set:\n",
    "            if classifier['action'] == instance[-1]:\n",
    "                correct_set.append(classifier)\n",
    "                classifier['correct count'] +=1\n",
    "                classifier['accuracy'] = classifier['correct count'] / classifier['match count']\n",
    "                classifier['fitness'] = classifier['accuracy'] ** 5\n",
    "        return correct_set\n",
    "        \n",
    "correct_set = create_correct_set(match_set, instance)\n",
    "print(population)\n",
    "print(correct_set)"
   ]
  },
  {
   "attachments": {},
   "cell_type": "markdown",
   "metadata": {},
   "source": [
    "### Step 5: Covering\n",
    "\n",
    "In most LCS, the population is initialized as being empty. Covering adds classifiers to the population using the current instance if the correct set is empty. This is also the step that turns the simple instance data into the classifier dictionary."
   ]
  },
  {
   "cell_type": "code",
   "execution_count": 1331,
   "metadata": {},
   "outputs": [
    {
     "name": "stdout",
     "output_type": "stream",
     "text": [
      "[{'state': [(0, 0)], 'action': 0, 'numerosity': 1, 'match count': 1, 'correct count': 1, 'accuracy': 1, 'fitness': 1, 'birth iteration': 1}]\n"
     ]
    }
   ],
   "source": [
    "# Create a dictionary item to represent the current instance if the correct set is empty.\n",
    "\n",
    "def covering(instance, iteration, specificity):\n",
    "    import random\n",
    "    state = []\n",
    "    action = instance[-1]\n",
    "    for x in range(len(instance) - 1):\n",
    "        if random.random() < specificity:\n",
    "            state.append(tuple((x, instance[x])))\n",
    "        classifier = {'state': state, \n",
    "                        'action': action, \n",
    "                        'numerosity': 1, \n",
    "                        'match count': 1, \n",
    "                        'correct count': 1, \n",
    "                        'accuracy': 1, \n",
    "                        'fitness': 1, \n",
    "                        'birth iteration': iteration}\n",
    "    return classifier\n",
    "\n",
    "classifier = covering(instance, 1, specificity=.5)\n",
    "\n",
    "def update_population(classifier, population):\n",
    "    population.append(classifier)\n",
    "update_population(classifier, population)\n",
    "print(population)"
   ]
  },
  {
   "cell_type": "code",
   "execution_count": 1332,
   "metadata": {},
   "outputs": [],
   "source": [
    "def testing(data):\n",
    "    population = initialize_population()\n",
    "    length = get_data_length(data)\n",
    "    for i in range(1, length):\n",
    "        instance = get_instance(data, i)\n",
    "        match_set = create_match_set(population, instance)\n",
    "        correct_set = create_correct_set(match_set, instance)\n",
    "        if len(correct_set) == 0:\n",
    "            classifier = covering(instance, i, specificity=.5)\n",
    "            update_population(classifier, population)\n",
    "    return population"
   ]
  },
  {
   "cell_type": "code",
   "execution_count": 1333,
   "metadata": {},
   "outputs": [
    {
     "data": {
      "text/plain": [
       "[{'state': [(4, 0), (5, 0)],\n",
       "  'action': 0,\n",
       "  'numerosity': 1,\n",
       "  'match count': 16,\n",
       "  'correct count': 12,\n",
       "  'accuracy': 0.75,\n",
       "  'fitness': 0.2373046875,\n",
       "  'birth iteration': 1},\n",
       " {'state': [(1, 0), (4, 0)],\n",
       "  'action': 0,\n",
       "  'numerosity': 1,\n",
       "  'match count': 15,\n",
       "  'correct count': 11,\n",
       "  'accuracy': 0.7333333333333333,\n",
       "  'fitness': 0.21208362139917689,\n",
       "  'birth iteration': 2},\n",
       " {'state': [(0, 0), (1, 0), (2, 0), (5, 0)],\n",
       "  'action': 0,\n",
       "  'numerosity': 1,\n",
       "  'match count': 3,\n",
       "  'correct count': 3,\n",
       "  'accuracy': 1.0,\n",
       "  'fitness': 1.0,\n",
       "  'birth iteration': 3},\n",
       " {'state': [(2, 0), (3, 0), (5, 1)],\n",
       "  'action': 0,\n",
       "  'numerosity': 1,\n",
       "  'match count': 7,\n",
       "  'correct count': 4,\n",
       "  'accuracy': 0.5714285714285714,\n",
       "  'fitness': 0.06092699470458736,\n",
       "  'birth iteration': 4},\n",
       " {'state': [(1, 0), (2, 0), (3, 1), (5, 1)],\n",
       "  'action': 0,\n",
       "  'numerosity': 1,\n",
       "  'match count': 3,\n",
       "  'correct count': 2,\n",
       "  'accuracy': 0.6666666666666666,\n",
       "  'fitness': 0.13168724279835387,\n",
       "  'birth iteration': 8},\n",
       " {'state': [(0, 0), (2, 1)],\n",
       "  'action': 1,\n",
       "  'numerosity': 1,\n",
       "  'match count': 16,\n",
       "  'correct count': 12,\n",
       "  'accuracy': 0.75,\n",
       "  'fitness': 0.2373046875,\n",
       "  'birth iteration': 9},\n",
       " {'state': [(1, 1), (4, 1), (5, 0)],\n",
       "  'action': 0,\n",
       "  'numerosity': 1,\n",
       "  'match count': 8,\n",
       "  'correct count': 6,\n",
       "  'accuracy': 0.75,\n",
       "  'fitness': 0.2373046875,\n",
       "  'birth iteration': 19},\n",
       " {'state': [(2, 0), (3, 1), (4, 0)],\n",
       "  'action': 1,\n",
       "  'numerosity': 1,\n",
       "  'match count': 6,\n",
       "  'correct count': 3,\n",
       "  'accuracy': 0.5,\n",
       "  'fitness': 0.03125,\n",
       "  'birth iteration': 21},\n",
       " {'state': [(0, 0), (2, 0), (3, 1), (5, 0)],\n",
       "  'action': 1,\n",
       "  'numerosity': 1,\n",
       "  'match count': 1,\n",
       "  'correct count': 1,\n",
       "  'accuracy': 1,\n",
       "  'fitness': 1,\n",
       "  'birth iteration': 23},\n",
       " {'state': [(0, 0), (3, 1), (4, 1)],\n",
       "  'action': 1,\n",
       "  'numerosity': 1,\n",
       "  'match count': 3,\n",
       "  'correct count': 3,\n",
       "  'accuracy': 1.0,\n",
       "  'fitness': 1.0,\n",
       "  'birth iteration': 24},\n",
       " {'state': [(1, 1), (2, 1), (3, 0), (4, 0), (5, 1)],\n",
       "  'action': 0,\n",
       "  'numerosity': 1,\n",
       "  'match count': 2,\n",
       "  'correct count': 1,\n",
       "  'accuracy': 0.5,\n",
       "  'fitness': 0.03125,\n",
       "  'birth iteration': 26},\n",
       " {'state': [(0, 0), (1, 1), (2, 1), (5, 1)],\n",
       "  'action': 0,\n",
       "  'numerosity': 1,\n",
       "  'match count': 3,\n",
       "  'correct count': 1,\n",
       "  'accuracy': 0.3333333333333333,\n",
       "  'fitness': 0.004115226337448558,\n",
       "  'birth iteration': 28},\n",
       " {'state': [(5, 0)],\n",
       "  'action': 1,\n",
       "  'numerosity': 1,\n",
       "  'match count': 15,\n",
       "  'correct count': 4,\n",
       "  'accuracy': 0.26666666666666666,\n",
       "  'fitness': 0.0013484773662551439,\n",
       "  'birth iteration': 35},\n",
       " {'state': [(0, 1), (2, 0), (3, 0), (4, 1)],\n",
       "  'action': 1,\n",
       "  'numerosity': 1,\n",
       "  'match count': 3,\n",
       "  'correct count': 2,\n",
       "  'accuracy': 0.6666666666666666,\n",
       "  'fitness': 0.13168724279835387,\n",
       "  'birth iteration': 36},\n",
       " {'state': [(1, 0), (3, 1), (5, 1)],\n",
       "  'action': 1,\n",
       "  'numerosity': 1,\n",
       "  'match count': 3,\n",
       "  'correct count': 2,\n",
       "  'accuracy': 0.6666666666666666,\n",
       "  'fitness': 0.13168724279835387,\n",
       "  'birth iteration': 40},\n",
       " {'state': [(2, 1), (4, 1), (5, 1)],\n",
       "  'action': 1,\n",
       "  'numerosity': 1,\n",
       "  'match count': 4,\n",
       "  'correct count': 4,\n",
       "  'accuracy': 1.0,\n",
       "  'fitness': 1.0,\n",
       "  'birth iteration': 44},\n",
       " {'state': [(2, 0), (3, 0), (4, 0), (5, 1)],\n",
       "  'action': 1,\n",
       "  'numerosity': 1,\n",
       "  'match count': 1,\n",
       "  'correct count': 1,\n",
       "  'accuracy': 1,\n",
       "  'fitness': 1,\n",
       "  'birth iteration': 50},\n",
       " {'state': [(0, 1), (1, 1), (2, 0), (3, 1), (4, 1), (5, 1)],\n",
       "  'action': 1,\n",
       "  'numerosity': 1,\n",
       "  'match count': 1,\n",
       "  'correct count': 1,\n",
       "  'accuracy': 1,\n",
       "  'fitness': 1,\n",
       "  'birth iteration': 56},\n",
       " {'state': [(3, 0), (5, 1)],\n",
       "  'action': 1,\n",
       "  'numerosity': 1,\n",
       "  'match count': 2,\n",
       "  'correct count': 2,\n",
       "  'accuracy': 1.0,\n",
       "  'fitness': 1.0,\n",
       "  'birth iteration': 58},\n",
       " {'state': [(0, 1), (1, 1), (4, 0)],\n",
       "  'action': 1,\n",
       "  'numerosity': 1,\n",
       "  'match count': 1,\n",
       "  'correct count': 1,\n",
       "  'accuracy': 1,\n",
       "  'fitness': 1,\n",
       "  'birth iteration': 62}]"
      ]
     },
     "execution_count": 1333,
     "metadata": {},
     "output_type": "execute_result"
    }
   ],
   "source": [
    "testing(data)"
   ]
  },
  {
   "cell_type": "code",
   "execution_count": null,
   "metadata": {},
   "outputs": [],
   "source": []
  }
 ],
 "metadata": {
  "kernelspec": {
   "display_name": "base",
   "language": "python",
   "name": "python3"
  },
  "language_info": {
   "codemirror_mode": {
    "name": "ipython",
    "version": 3
   },
   "file_extension": ".py",
   "mimetype": "text/x-python",
   "name": "python",
   "nbconvert_exporter": "python",
   "pygments_lexer": "ipython3",
   "version": "3.8.5"
  },
  "vscode": {
   "interpreter": {
    "hash": "d68823a4712e2a9e6711d2ac209f8a2a2c531babbc332ec7eb4ae73e4fc1dbbb"
   }
  }
 },
 "nbformat": 4,
 "nbformat_minor": 2
}

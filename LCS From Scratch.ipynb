{
 "cells": [
  {
   "cell_type": "markdown",
   "metadata": {},
   "source": [
    "# Learning Classifiers from Scratch\n",
    "\n",
    "## Model Source\n",
    "\n",
    "The initial, basic learning classifier system model taken from Dr. Ryan Urbanowicz's \"Learning Classifier Systems in a Nutshell\" video on YouTube found here: https://youtu.be/CRge_cZ2cJc?si=1CM2osKW7CptJ-DM\n",
    "\n",
    "This video description of an LCS is the simplest and most digestable that has been found while also staying complete in terms of LCS operation. Additionally, some psuedo code snippets have been taken from Dr. Martin Butz's book \"Rule-Based Evolutionary Online Learning Systems\" and his algorithmic description of XCS."
   ]
  },
  {
   "attachments": {},
   "cell_type": "markdown",
   "metadata": {},
   "source": [
    "### Step 1: Initialize Setup\n",
    "\n",
    "Initialize the population and create the functions for creating empty match sets and action sets:"
   ]
  },
  {
   "cell_type": "code",
   "execution_count": 26,
   "metadata": {},
   "outputs": [
    {
     "name": "stdout",
     "output_type": "stream",
     "text": [
      "[]\n"
     ]
    }
   ],
   "source": [
    "# Initialize the empty population. This is only called once at the beginning of the cycle.\n",
    "def initialize_population():\n",
    "    population = []\n",
    "    return population\n",
    "\n",
    "population = initialize_population()"
   ]
  },
  {
   "attachments": {},
   "cell_type": "markdown",
   "metadata": {},
   "source": [
    "### Step 2: Feeding Data to LCS\n",
    "\n",
    "LCS is an online learning mechanism, but will normally be trained from some dataset. Data from the dataset in training or from the environment in testing will need to be fed to the LCS."
   ]
  },
  {
   "cell_type": "code",
   "execution_count": 21,
   "metadata": {},
   "outputs": [],
   "source": [
    "import csv\n",
    "\n",
    "data = './6Multiplexer_Data_Complete.csv'\n",
    "\n",
    "# Get the length of the file so that the get_instance function doesn't return anything if requested line is not present\n",
    "def get_data_length(data):\n",
    "    with open(data, 'r') as file:\n",
    "        return sum(1 for row in file)\n",
    "\n",
    "# Create a function that gets the data from a file an returns a specified instance of the dataset to the LCS\n",
    "def get_instance(data, line_num):\n",
    "    lines = get_data_length(data)\n",
    "    with open(data, 'r') as source:\n",
    "        reader = csv.reader(source)\n",
    "        if line_num > lines:\n",
    "            return\n",
    "        for _ in range(line_num):\n",
    "            next(reader)\n",
    "        return next(reader)\n"
   ]
  },
  {
   "attachments": {},
   "cell_type": "markdown",
   "metadata": {},
   "source": [
    "### Step 3: Determine if classifiers in population match the current instance\n",
    "\n",
    "Compare each classifier in the population to the current instance. If classifiers in the population match, they are each added to the match set."
   ]
  },
  {
   "cell_type": "code",
   "execution_count": 113,
   "metadata": {},
   "outputs": [],
   "source": [
    "# Create a does_match function that compares each attribute between two classifiers\n",
    "def does_match(classifier, instance):\n",
    "    for i in range(len(classifier)):\n",
    "        index = classifier[i][0]\n",
    "        if classifier[i][1] == instance[index]:\n",
    "            return True\n",
    "        else:\n",
    "            return False\n",
    "\n",
    "# Create the match set by comparing the attributes of each classifier in the population with the current instance\n",
    "def create_match_set(population, instance):\n",
    "    match_set = []\n",
    "    for classifier in population:\n",
    "        if does_match(classifier['state'], instance) == True:\n",
    "            match_set.append(classifier)\n",
    "            return match_set"
   ]
  },
  {
   "attachments": {},
   "cell_type": "markdown",
   "metadata": {},
   "source": [
    "### Step 4: Generate the correct set\n",
    "\n",
    "From the match set, create a correct set by comparing the action or class of each classifier with the action or class of each instance."
   ]
  },
  {
   "cell_type": "code",
   "execution_count": 114,
   "metadata": {},
   "outputs": [],
   "source": [
    "# Create the correct set by comparing the class or action of each classifier in the match set with the current instance\n",
    "\n",
    "def create_correct_set(match_set, instance):\n",
    "    correct_set = []\n",
    "    for classifier in match_set:\n",
    "        if classifier['action'] == instance[-1]:\n",
    "            correct_set.append(classifier)\n",
    "            return correct_set"
   ]
  },
  {
   "attachments": {},
   "cell_type": "markdown",
   "metadata": {},
   "source": [
    "### Step 5: Covering\n",
    "\n",
    "In most LCS, the population is initialized as being empty. Covering adds classifiers to the population using the current instance if the correct set is empty. This is also the step that turns the simple instance data into the classifier dictionary/"
   ]
  },
  {
   "cell_type": "code",
   "execution_count": null,
   "metadata": {},
   "outputs": [],
   "source": [
    "# Create a dictionary item to represent the current instance if the correct set is empty.\n",
    "\n",
    "def covering(correct_set, population, instance):\n",
    "    if len(correct_set) == 0:\n",
    "        classifier = {'state': }"
   ]
  }
 ],
 "metadata": {
  "kernelspec": {
   "display_name": "base",
   "language": "python",
   "name": "python3"
  },
  "language_info": {
   "codemirror_mode": {
    "name": "ipython",
    "version": 3
   },
   "file_extension": ".py",
   "mimetype": "text/x-python",
   "name": "python",
   "nbconvert_exporter": "python",
   "pygments_lexer": "ipython3",
   "version": "3.9.13"
  },
  "vscode": {
   "interpreter": {
    "hash": "d68823a4712e2a9e6711d2ac209f8a2a2c531babbc332ec7eb4ae73e4fc1dbbb"
   }
  }
 },
 "nbformat": 4,
 "nbformat_minor": 2
}

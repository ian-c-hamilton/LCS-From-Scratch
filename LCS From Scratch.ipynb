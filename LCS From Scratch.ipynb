{
 "cells": [
  {
   "cell_type": "markdown",
   "metadata": {},
   "source": [
    "# Learning Classifiers from Scratch\n",
    "\n",
    "## Model Source\n",
    "\n",
    "The initial, basic learning classifier system model taken from Dr. Ryan Urbanowicz's \"Learning Classifier Systems in a Nutshell\" video on YouTube found here: https://youtu.be/CRge_cZ2cJc?si=1CM2osKW7CptJ-DM\n",
    "\n",
    "This video description of an LCS is the simplest and most digestable that has been found while also staying complete in terms of LCS operation. Additionally, some psuedo code snippets have been taken from Dr. Martin Butz's book \"Rule-Based Evolutionary Online Learning Systems\" and his algorithmic description of XCS."
   ]
  },
  {
   "attachments": {},
   "cell_type": "markdown",
   "metadata": {},
   "source": [
    "### Step 1: Initialize Setup\n",
    "\n",
    "Initialize the population and create the functions for creating empty match sets and action sets:"
   ]
  },
  {
   "cell_type": "code",
   "execution_count": 49,
   "metadata": {},
   "outputs": [
    {
     "name": "stdout",
     "output_type": "stream",
     "text": [
      "[]\n"
     ]
    }
   ],
   "source": [
    "# Initialize the empty population. This is only called once at the beginning of the cycle.\n",
    "def initialize_population():\n",
    "    population = []\n",
    "    return population\n",
    "\n",
    "population = initialize_population()\n",
    "print(population)"
   ]
  },
  {
   "cell_type": "code",
   "execution_count": 50,
   "metadata": {},
   "outputs": [
    {
     "name": "stdout",
     "output_type": "stream",
     "text": [
      "[]\n"
     ]
    }
   ],
   "source": [
    "print(population)"
   ]
  },
  {
   "attachments": {},
   "cell_type": "markdown",
   "metadata": {},
   "source": [
    "### Step 2: Feeding Data to LCS\n",
    "\n",
    "LCS is an online learning mechanism, but will normally be trained from some dataset. Data from the dataset in training or from the environment in testing will need to be fed to the LCS."
   ]
  },
  {
   "cell_type": "code",
   "execution_count": 51,
   "metadata": {},
   "outputs": [
    {
     "name": "stdout",
     "output_type": "stream",
     "text": [
      "[0, 0, 0, 0, 0, 0, 0]\n"
     ]
    }
   ],
   "source": [
    "\n",
    "data = './6Multiplexer_Data_Complete.csv'\n",
    "\n",
    "# Get the length of the file so that the get_instance function doesn't return anything if requested line is not present\n",
    "def get_data_length(data):\n",
    "    with open(data, 'r') as file:\n",
    "        return sum(1 for row in file)\n",
    "\n",
    "def convert_int(instance):\n",
    "    int_instance = []\n",
    "    for i in instance:\n",
    "        int_instance.append(int(i))\n",
    "    return int_instance\n",
    "\n",
    "# Create a function that gets the data from a file an returns a specified instance of the dataset to the LCS\n",
    "def get_instance(data, line_num):\n",
    "    import csv\n",
    "    lines = get_data_length(data)\n",
    "    with open(data, 'r') as source:\n",
    "        reader = csv.reader(source)\n",
    "        if line_num > lines:\n",
    "            return\n",
    "        for _ in range(line_num):\n",
    "            next(reader)\n",
    "        return convert_int(next(reader))\n",
    "\n",
    "instance = get_instance(data, 1)\n",
    "print(instance)"
   ]
  },
  {
   "attachments": {},
   "cell_type": "markdown",
   "metadata": {},
   "source": [
    "### Step 3: Determine if classifiers in population match the current instance\n",
    "\n",
    "Compare each classifier in the population to the current instance. If classifiers in the population match, they are each added to the match set."
   ]
  },
  {
   "cell_type": "code",
   "execution_count": 52,
   "metadata": {},
   "outputs": [
    {
     "name": "stdout",
     "output_type": "stream",
     "text": [
      "[]\n",
      "[]\n"
     ]
    }
   ],
   "source": [
    "# Create a does_match function that compares each attribute between two classifiers\n",
    "def does_match(state, instance):\n",
    "    for i in range(len(state)):\n",
    "        index = state[i][0]\n",
    "        if state[i][1] != instance[index]:\n",
    "            return False\n",
    "    return True\n",
    "\n",
    "# Create the match set by comparing the attributes of each classifier in the population with the current instance\n",
    "def create_match_set(population, instance):\n",
    "    match_set = []\n",
    "    if len(population) == 0:\n",
    "        return match_set\n",
    "    else:\n",
    "        for classifier in population:\n",
    "            state = classifier['state']\n",
    "            if does_match(state, instance) == True:\n",
    "                match_set.append(classifier)\n",
    "                classifier['match count'] += 1\n",
    "                classifier['accuracy'] = classifier['correct count'] / classifier['match count']\n",
    "                classifier['fitness'] = classifier['accuracy'] ** 5\n",
    "        return match_set\n",
    "\n",
    "match_set = create_match_set(population, instance)\n",
    "print(population)\n",
    "print(match_set)"
   ]
  },
  {
   "attachments": {},
   "cell_type": "markdown",
   "metadata": {},
   "source": [
    "### Step 4: Generate the correct set\n",
    "\n",
    "From the match set, create a correct set by comparing the action or class of each classifier with the action or class of each instance."
   ]
  },
  {
   "cell_type": "code",
   "execution_count": 53,
   "metadata": {},
   "outputs": [
    {
     "name": "stdout",
     "output_type": "stream",
     "text": [
      "[]\n",
      "[]\n"
     ]
    }
   ],
   "source": [
    "# Create the correct set by comparing the class or action of each classifier in the match set with the current instance\n",
    "\n",
    "def create_correct_set(match_set, instance):\n",
    "    correct_set = []\n",
    "    if len(match_set) == 0:\n",
    "        return correct_set\n",
    "    else:\n",
    "        for classifier in match_set:\n",
    "            if classifier['action'] == instance[-1]:\n",
    "                correct_set.append(classifier)\n",
    "                classifier['correct count'] +=1\n",
    "                classifier['accuracy'] = classifier['correct count'] / classifier['match count']\n",
    "                classifier['fitness'] = classifier['accuracy'] ** 5\n",
    "        return correct_set\n",
    "        \n",
    "correct_set = create_correct_set(match_set, instance)\n",
    "print(population)\n",
    "print(correct_set)"
   ]
  },
  {
   "attachments": {},
   "cell_type": "markdown",
   "metadata": {},
   "source": [
    "### Step 5: Covering\n",
    "\n",
    "In most LCS, the population is initialized as being empty. Covering adds classifiers to the population using the current instance if the correct set is empty. This is also the step that turns the simple instance data into the classifier dictionary."
   ]
  },
  {
   "cell_type": "code",
   "execution_count": 54,
   "metadata": {},
   "outputs": [
    {
     "name": "stdout",
     "output_type": "stream",
     "text": [
      "[{'state': [(5, 0)], 'action': 0, 'numerosity': 1, 'match count': 1, 'correct count': 1, 'accuracy': 1, 'fitness': 1, 'birth iteration': 1}]\n"
     ]
    }
   ],
   "source": [
    "# Create a dictionary item to represent the current instance if the correct set is empty.\n",
    "\n",
    "def covering(instance, iteration, specificity):\n",
    "    import random\n",
    "    state = []\n",
    "    action = instance[-1]\n",
    "    for x in range(len(instance) - 1):\n",
    "        if random.random() < specificity:\n",
    "            state.append(tuple((x, instance[x])))\n",
    "        classifier = {'state': state, \n",
    "                        'action': action, \n",
    "                        'numerosity': 1, \n",
    "                        'match count': 1, \n",
    "                        'correct count': 1, \n",
    "                        'accuracy': 1, \n",
    "                        'fitness': 1, \n",
    "                        'birth iteration': iteration}\n",
    "    return classifier\n",
    "\n",
    "classifier = covering(instance, 1, specificity=.5)\n",
    "\n",
    "def update_population(classifier, population):\n",
    "    population.append(classifier)\n",
    "update_population(classifier, population)\n",
    "print(population)"
   ]
  },
  {
   "cell_type": "markdown",
   "metadata": {},
   "source": [
    "### Step 5.1: Population Filling\n",
    "\n",
    "Below is an example of a loop that goes through the training data and creates a population from the training instances. The loop takes a data set to train on and a specificity parameter that is from 0 to 1. A specificity of 1 means that the classifier states will be 100% specific and the population will essentially be filled with one of each iteration of the training data. Anything less than 1 and there is a chance that for each bit in the state of a calssifier it will be unspecified. This is equivalent to the # symbol in most LCS algorithms and if a bis is unspecified, the algorithm \"doesn't care\". The states are coded in a list of tuples that represent index-value pairs. For large datasets and complicated problems, this can have a significant speed and memory advantage over representing \"don't care\" bits with #."
   ]
  },
  {
   "cell_type": "code",
   "execution_count": 55,
   "metadata": {},
   "outputs": [],
   "source": [
    "def testing(data, specificity):\n",
    "    population = initialize_population()\n",
    "    length = get_data_length(data)\n",
    "    for i in range(1, length):\n",
    "        instance = get_instance(data, i)\n",
    "        match_set = create_match_set(population, instance)\n",
    "        correct_set = create_correct_set(match_set, instance)\n",
    "        if len(correct_set) == 0:\n",
    "            classifier = covering(instance, i, specificity=specificity)\n",
    "            update_population(classifier, population)\n",
    "    return population"
   ]
  },
  {
   "cell_type": "markdown",
   "metadata": {},
   "source": [
    "### Step 6: Genetic Algorithm\n",
    "\n",
    "The genetic algorithm is the heart of learning for the LCS. It introduces new rules to the population and evolves accurate, general rules that apply to the training data. The three main portions of the GA are selection, crossover, and mutation, applied in that order.\n",
    "\n",
    "Selection selects two parent classifiers from the correct set. Selection is most often done in two ways, proportionate selection or tournament selection. Proportionate selection makes the most logical sense at first, but can significantly hinder learning performance. In proportionate selection parents are selected directly proporional to their fitness. However, it is often the case during training that many classifiers will have similar, low accuracy and few classifiers will have high accuracy. The chance of picking a highly accurate classifier at random is small. This is normally visualized with a roulette wheel. If the slices of a roulette wheel were represented by classifier accuracy, one, highly accurate classifer might take up 25% of the wheel while thousands of classifiers with poor accuracy would take up 75% of the wheel. Spinning the wheel to choose a classifier means that you'll pick an inaccurate classifier 75% of the time. There are ways around this like fitness sharing for proportionate selection, but tournament selection is simpler and will be used here. Tournament selection randomly selects a number of classifiers from the correct set. The classifier with the highest accuracy is chosen as a parent. This is repeated for the second parent.\n",
    "\n",
    "Crossover exchanges attributes of the parent classifier states to create potentially new classifiers. The three main crossover mechanisms are uniform, single point, and double point crossover. Uniform goes one attribute at a time and randomly exchanges the values between the two parent classifiers. Uniform crossover introduces the most diversity into the population but has two major drawbacks. uniform crossover not only significantly more difficult to perform (in terms of computations and even physically coding it) than the other two, it can disrupt learning significantly. For example, if two very accurate classifiers are chosen as parents, uniform crossover can completely disrupt their attributes into new classifiers that look nothing like the original parents. Thus, single point or double point crossover is traditionally used. Single point crossover chooses a random index in the parent classifiers and swaps them at that point. In this way, as least 50% of the parent classifier attributes are maintained in their original order while introducing attributes from the other parent classifier. Two point crossover does the samething as single point but chooses two indices and swaps the portion between those two points. In this method, at least 66% of the parent classifiers are preserved.\n",
    "\n",
    "Lastly, mutation is applied to the offspring of the two parent classifiers. Mutation is based off a small probability that either converts a generalized attribute into a specified one or vice versa. If converting a generalized attribute to a spcified one, the specified attribute is made sure to match the current training instance."
   ]
  },
  {
   "cell_type": "code",
   "execution_count": 56,
   "metadata": {},
   "outputs": [
    {
     "ename": "TypeError",
     "evalue": "'list' object is not callable",
     "output_type": "error",
     "traceback": [
      "\u001b[1;31m---------------------------------------------------------------------------\u001b[0m",
      "\u001b[1;31mTypeError\u001b[0m                                 Traceback (most recent call last)",
      "\u001b[1;32m<ipython-input-56-bfb9268e6e70>\u001b[0m in \u001b[0;36m<module>\u001b[1;34m\u001b[0m\n\u001b[0;32m      8\u001b[0m \u001b[0mdata\u001b[0m \u001b[1;33m=\u001b[0m \u001b[1;33m[\u001b[0m\u001b[1;36m1\u001b[0m\u001b[1;33m,\u001b[0m \u001b[1;36m2\u001b[0m\u001b[1;33m,\u001b[0m \u001b[1;36m3\u001b[0m\u001b[1;33m,\u001b[0m \u001b[1;36m4\u001b[0m\u001b[1;33m,\u001b[0m \u001b[1;36m5\u001b[0m\u001b[1;33m,\u001b[0m \u001b[1;36m6\u001b[0m\u001b[1;33m,\u001b[0m \u001b[1;36m7\u001b[0m\u001b[1;33m]\u001b[0m\u001b[1;33m\u001b[0m\u001b[1;33m\u001b[0m\u001b[0m\n\u001b[0;32m      9\u001b[0m \u001b[1;33m\u001b[0m\u001b[0m\n\u001b[1;32m---> 10\u001b[1;33m \u001b[0mprint\u001b[0m\u001b[1;33m(\u001b[0m\u001b[0mtournament_selection\u001b[0m\u001b[1;33m(\u001b[0m\u001b[0mdata\u001b[0m\u001b[1;33m,\u001b[0m \u001b[1;36m9\u001b[0m\u001b[1;33m)\u001b[0m\u001b[1;33m)\u001b[0m\u001b[1;33m\u001b[0m\u001b[1;33m\u001b[0m\u001b[0m\n\u001b[0m",
      "\u001b[1;32m<ipython-input-56-bfb9268e6e70>\u001b[0m in \u001b[0;36mtournament_selection\u001b[1;34m(data, tournament_size)\u001b[0m\n\u001b[0;32m      3\u001b[0m \u001b[1;32mdef\u001b[0m \u001b[0mtournament_selection\u001b[0m\u001b[1;33m(\u001b[0m\u001b[0mdata\u001b[0m\u001b[1;33m,\u001b[0m \u001b[0mtournament_size\u001b[0m\u001b[1;33m)\u001b[0m\u001b[1;33m:\u001b[0m\u001b[1;33m\u001b[0m\u001b[1;33m\u001b[0m\u001b[0m\n\u001b[0;32m      4\u001b[0m     \u001b[1;32mimport\u001b[0m \u001b[0mrandom\u001b[0m\u001b[1;33m\u001b[0m\u001b[1;33m\u001b[0m\u001b[0m\n\u001b[1;32m----> 5\u001b[1;33m     \u001b[0mtournament\u001b[0m \u001b[1;33m=\u001b[0m \u001b[0mlist\u001b[0m\u001b[1;33m(\u001b[0m\u001b[0mset\u001b[0m\u001b[1;33m(\u001b[0m\u001b[0mrandom\u001b[0m\u001b[1;33m.\u001b[0m\u001b[0mchoices\u001b[0m\u001b[1;33m(\u001b[0m\u001b[0mdata\u001b[0m\u001b[1;33m,\u001b[0m \u001b[0mk\u001b[0m\u001b[1;33m=\u001b[0m\u001b[0mtournament_size\u001b[0m\u001b[1;33m)\u001b[0m\u001b[1;33m)\u001b[0m\u001b[1;33m)\u001b[0m\u001b[1;33m\u001b[0m\u001b[1;33m\u001b[0m\u001b[0m\n\u001b[0m\u001b[0;32m      6\u001b[0m     \u001b[1;32mreturn\u001b[0m \u001b[0mtournament\u001b[0m\u001b[1;33m\u001b[0m\u001b[1;33m\u001b[0m\u001b[0m\n\u001b[0;32m      7\u001b[0m \u001b[1;33m\u001b[0m\u001b[0m\n",
      "\u001b[1;31mTypeError\u001b[0m: 'list' object is not callable"
     ]
    }
   ],
   "source": [
    "# Create a function that takes in a set, like the correct set, and selects two parent classifiers\n",
    "\n",
    "def tournament_selection(data, tournament_size):\n",
    "    import random\n",
    "    tournament = list(set(random.choices(data, k=tournament_size)))\n",
    "    return tournament\n",
    "\n",
    "data = [1, 2, 3, 4, 5, 6, 7]\n",
    "\n",
    "print(tournament_selection(data, 9))"
   ]
  },
  {
   "cell_type": "code",
   "execution_count": 59,
   "metadata": {},
   "outputs": [
    {
     "ename": "TypeError",
     "evalue": "'list' object is not callable",
     "output_type": "error",
     "traceback": [
      "\u001b[1;31m---------------------------------------------------------------------------\u001b[0m",
      "\u001b[1;31mTypeError\u001b[0m                                 Traceback (most recent call last)",
      "\u001b[1;32m<ipython-input-59-b19af94ea1f2>\u001b[0m in \u001b[0;36m<module>\u001b[1;34m\u001b[0m\n\u001b[0;32m      1\u001b[0m \u001b[0mmy_list\u001b[0m \u001b[1;33m=\u001b[0m \u001b[1;33m[\u001b[0m\u001b[1;36m1\u001b[0m\u001b[1;33m,\u001b[0m \u001b[1;36m2\u001b[0m\u001b[1;33m,\u001b[0m \u001b[1;36m3\u001b[0m\u001b[1;33m,\u001b[0m \u001b[1;36m3\u001b[0m\u001b[1;33m,\u001b[0m \u001b[1;36m4\u001b[0m\u001b[1;33m,\u001b[0m \u001b[1;36m5\u001b[0m\u001b[1;33m,\u001b[0m \u001b[1;36m5\u001b[0m\u001b[1;33m]\u001b[0m\u001b[1;33m\u001b[0m\u001b[1;33m\u001b[0m\u001b[0m\n\u001b[1;32m----> 2\u001b[1;33m \u001b[0mmy_set\u001b[0m \u001b[1;33m=\u001b[0m \u001b[0mlist\u001b[0m\u001b[1;33m(\u001b[0m\u001b[0mset\u001b[0m\u001b[1;33m(\u001b[0m\u001b[0mmy_list\u001b[0m\u001b[1;33m)\u001b[0m\u001b[1;33m)\u001b[0m\u001b[1;33m\u001b[0m\u001b[1;33m\u001b[0m\u001b[0m\n\u001b[0m\u001b[0;32m      3\u001b[0m \u001b[0mprint\u001b[0m\u001b[1;33m(\u001b[0m\u001b[0mmy_set\u001b[0m\u001b[1;33m)\u001b[0m\u001b[1;33m\u001b[0m\u001b[1;33m\u001b[0m\u001b[0m\n",
      "\u001b[1;31mTypeError\u001b[0m: 'list' object is not callable"
     ]
    }
   ],
   "source": [
    "my_list = [1, 2, 3, 3, 4, 5, 5]\n",
    "my_set = list(set(my_list))\n",
    "print(my_set)"
   ]
  },
  {
   "cell_type": "code",
   "execution_count": null,
   "metadata": {},
   "outputs": [],
   "source": []
  }
 ],
 "metadata": {
  "kernelspec": {
   "display_name": "base",
   "language": "python",
   "name": "python3"
  },
  "language_info": {
   "codemirror_mode": {
    "name": "ipython",
    "version": 3
   },
   "file_extension": ".py",
   "mimetype": "text/x-python",
   "name": "python",
   "nbconvert_exporter": "python",
   "pygments_lexer": "ipython3",
   "version": "3.8.5"
  },
  "vscode": {
   "interpreter": {
    "hash": "d68823a4712e2a9e6711d2ac209f8a2a2c531babbc332ec7eb4ae73e4fc1dbbb"
   }
  }
 },
 "nbformat": 4,
 "nbformat_minor": 2
}
